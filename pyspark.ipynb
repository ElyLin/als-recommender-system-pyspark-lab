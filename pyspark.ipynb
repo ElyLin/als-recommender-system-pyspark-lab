{
  "cells": [
    {
      "cell_type": "markdown",
      "metadata": {
        "id": "HbxgL5JUo7ha"
      },
      "source": [
        "# Building a Recommendation System in PySpark - Lab\n",
        "\n",
        "## Introduction\n",
        "\n",
        "In this lab, we will implement a movie recommendation system using ALS in Spark programming environment. Spark's machine learning library `ml` comes packaged with a very efficient implementation of the ALS algorithm that we looked at in the previous lesson. The lab will require you to put into practice your Spark programming skills for creating and manipulating PySpark DataFrames. We will go through a step-by-step process into developing a movie recommendation system using ALS and PySpark using the `MovieLens` dataset that we used in a previous lab.\n",
        "\n",
        "Note: You are advised to refer to [PySpark documentation](http://spark.apache.org/docs/2.2.0/api/python/index.html) heavily for completing this lab as it will introduce a few new methods. \n",
        "\n",
        "\n",
        "## Objectives\n",
        "\n",
        "In this lab you will: \n",
        "\n",
        "- Use Spark to train and cross-validate an ALS model \n",
        "- Introduce a new user with rating to a rating matrix and make recommendations for them \n",
        "- Create a function that will return the top n recommendations for a user "
      ]
    },
    {
      "cell_type": "markdown",
      "metadata": {
        "id": "xiBcQUZJo7hc"
      },
      "source": [
        "## Building a Recommendation System\n",
        "\n",
        "We have seen how recommendation systems have played an integral part in the success of Amazon (books, items), Pandora/Spotify (music), Google (news, search), YouTube (videos) etc.  For Amazon, these systems bring more than 30% of their total revenue. For Netflix, 75% of movies that people watch are based on some sort of recommendation.\n",
        "\n",
        "> The goal of recommendation systems is to find what is likely to be of interest to the user. This enables organizations to offer a high level of personalization and customer tailored services.\n",
        "\n",
        "\n",
        "For online video content services like Netflix and Hulu, the need to build robust movie recommendation systems is extremely important. An example of a recommendation system is such as this:\n",
        "\n",
        "1.    User A watches Game of Thrones and Breaking Bad \n",
        "2.    User B performs a search query for Game of Thrones \n",
        "3.    The system suggests Breaking Bad to user B from data collected about user A \n",
        "\n",
        "\n",
        "This lab will guide you through a step-by-step process into developing such a movie recommendation system. We will use the `MovieLens` dataset to build a movie recommendation system using the collaborative filtering technique with Spark's Alternating Least Squares implementation. After building that recommendation system, we will go through the process of adding a new user to the dataset with some new ratings and obtaining new recommendations for that user.\n",
        "\n",
        "### Importing the Data\n",
        "\n",
        "* Initialize a `SparkSession` object\n",
        "* Import the dataset found at `'./data/ratings.csv'` into a PySpark DataFrame"
      ]
    },
    {
      "cell_type": "code",
      "source": [
        "pip install pyspark"
      ],
      "metadata": {
        "colab": {
          "base_uri": "https://localhost:8080/"
        },
        "id": "zaM2O17bqUEM",
        "outputId": "a8a76a76-4885-410f-ba9c-34c0308dae95"
      },
      "execution_count": 2,
      "outputs": [
        {
          "output_type": "stream",
          "name": "stdout",
          "text": [
            "Collecting pyspark\n",
            "  Downloading pyspark-3.2.0.tar.gz (281.3 MB)\n",
            "\u001b[K     |████████████████████████████████| 281.3 MB 41 kB/s \n",
            "\u001b[?25hCollecting py4j==0.10.9.2\n",
            "  Downloading py4j-0.10.9.2-py2.py3-none-any.whl (198 kB)\n",
            "\u001b[K     |████████████████████████████████| 198 kB 61.8 MB/s \n",
            "\u001b[?25hBuilding wheels for collected packages: pyspark\n",
            "  Building wheel for pyspark (setup.py) ... \u001b[?25l\u001b[?25hdone\n",
            "  Created wheel for pyspark: filename=pyspark-3.2.0-py2.py3-none-any.whl size=281805912 sha256=2b815acdcb7cc6cc31a6c3ab49b3c4de06c5b68ee1b476034a749552d3fc31c4\n",
            "  Stored in directory: /root/.cache/pip/wheels/0b/de/d2/9be5d59d7331c6c2a7c1b6d1a4f463ce107332b1ecd4e80718\n",
            "Successfully built pyspark\n",
            "Installing collected packages: py4j, pyspark\n",
            "Successfully installed py4j-0.10.9.2 pyspark-3.2.0\n"
          ]
        }
      ]
    },
    {
      "cell_type": "code",
      "execution_count": 3,
      "metadata": {
        "id": "hTokzWh1o7hc"
      },
      "outputs": [],
      "source": [
        "# import necessary libraries\n",
        "from pyspark.sql import SparkSession\n",
        "\n",
        "# instantiate SparkSession object\n",
        "#spark = SparkSession.builder.master('local').getOrCreate()\n",
        "\n",
        "spark = SparkSession\\\n",
        "       .builder\\\n",
        "       .appName('ALSExample').config('spark.driver.host', 'localhost')\\\n",
        "       .getOrCreate()"
      ]
    },
    {
      "cell_type": "code",
      "source": [
        "from google.colab import files\n",
        "uploaded = files.upload()"
      ],
      "metadata": {
        "colab": {
          "resources": {
            "http://localhost:8080/nbextensions/google.colab/files.js": {
              "data": "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",
              "ok": true,
              "headers": [
                [
                  "content-type",
                  "application/javascript"
                ]
              ],
              "status": 200,
              "status_text": ""
            }
          },
          "base_uri": "https://localhost:8080/",
          "height": 109
        },
        "id": "CHm9Si8fq0WQ",
        "outputId": "3474f95e-1c09-4f52-c391-66431063409b"
      },
      "execution_count": 5,
      "outputs": [
        {
          "output_type": "display_data",
          "data": {
            "text/html": [
              "\n",
              "     <input type=\"file\" id=\"files-88e7b2d4-6137-435f-9dfc-72136a0db024\" name=\"files[]\" multiple disabled\n",
              "        style=\"border:none\" />\n",
              "     <output id=\"result-88e7b2d4-6137-435f-9dfc-72136a0db024\">\n",
              "      Upload widget is only available when the cell has been executed in the\n",
              "      current browser session. Please rerun this cell to enable.\n",
              "      </output>\n",
              "      <script src=\"/nbextensions/google.colab/files.js\"></script> "
            ],
            "text/plain": [
              "<IPython.core.display.HTML object>"
            ]
          },
          "metadata": {}
        },
        {
          "output_type": "stream",
          "name": "stdout",
          "text": [
            "Saving movies.csv to movies.csv\n",
            "Saving ratings.csv to ratings.csv\n"
          ]
        }
      ]
    },
    {
      "cell_type": "code",
      "execution_count": 6,
      "metadata": {
        "id": "pxV_psPvo7hd"
      },
      "outputs": [],
      "source": [
        "# read in the dataset into pyspark DataFrame\n",
        "movie_ratings = spark.read.csv('ratings.csv', header='true', inferSchema='true')"
      ]
    },
    {
      "cell_type": "markdown",
      "metadata": {
        "id": "JAKQSp3Zo7he"
      },
      "source": [
        "Check the data types of each of the columns to ensure that they are a type that makes sense given the column."
      ]
    },
    {
      "cell_type": "code",
      "execution_count": 7,
      "metadata": {
        "colab": {
          "base_uri": "https://localhost:8080/"
        },
        "id": "cI-MW7SPo7he",
        "outputId": "f6949d1c-87ab-4f03-d9e9-899a585973ee"
      },
      "outputs": [
        {
          "output_type": "execute_result",
          "data": {
            "text/plain": [
              "[('userId', 'int'),\n",
              " ('movieId', 'int'),\n",
              " ('rating', 'double'),\n",
              " ('timestamp', 'int')]"
            ]
          },
          "metadata": {},
          "execution_count": 7
        }
      ],
      "source": [
        "movie_ratings.dtypes"
      ]
    },
    {
      "cell_type": "markdown",
      "metadata": {
        "id": "Zrtf1FLro7hf"
      },
      "source": [
        "We aren't going to need the timestamp, so we can go ahead and remove that column."
      ]
    },
    {
      "cell_type": "code",
      "execution_count": 8,
      "metadata": {
        "id": "aa8Km8pdo7hf"
      },
      "outputs": [],
      "source": [
        "movie_ratings = movie_ratings.drop('timestamp')"
      ]
    },
    {
      "cell_type": "markdown",
      "metadata": {
        "id": "YaMN1BZBo7hf"
      },
      "source": [
        "### Fitting the Alternating Least Squares Model"
      ]
    },
    {
      "cell_type": "markdown",
      "metadata": {
        "id": "l47QvD3Xo7hg"
      },
      "source": [
        "Because this dataset is already preprocessed for us, we can go ahead and fit the Alternating Least Squares model.\n",
        "\n",
        "* Import `ALS` from `pyspark.ml.recommendation` module \n",
        "* Use the `.randomSplit()` method on the pyspark DataFrame to separate the dataset into training and test sets\n",
        "* Fit the Alternating Least Squares Model to the training dataset. Make sure to set the `userCol`, `itemCol`, and `ratingCol` to the appropriate columns given this dataset. Then fit the data to the training set and assign it to a variable model  "
      ]
    },
    {
      "cell_type": "code",
      "execution_count": 9,
      "metadata": {
        "id": "vDOPa92Mo7hg"
      },
      "outputs": [],
      "source": [
        "from pyspark.ml.evaluation import RegressionEvaluator\n",
        "\n",
        "from pyspark.ml.recommendation import ALS\n",
        "\n",
        "# split into training and testing sets\n",
        "(training, test) = movie_ratings.randomSplit([0.8, 0.2])\n",
        "\n",
        "# Build the recommendation model using ALS on the training data\n",
        "# Note we set cold start strategy to 'drop' to ensure we don't get NaN evaluation metrics\n",
        "als = ALS(maxIter=5,rank=4, regParam=0.01, userCol='userId', itemCol='movieId', ratingCol='rating',\n",
        "          coldStartStrategy='drop')\n",
        "\n",
        "# fit the ALS model to the training set\n",
        "model = als.fit(training)"
      ]
    },
    {
      "cell_type": "markdown",
      "metadata": {
        "id": "5bkAb1_Go7hg"
      },
      "source": [
        "Now you've fit the model, and it's time to evaluate it to determine just how well it performed.\n",
        "\n",
        "* Import `RegressionEvalutor` from `pyspark.ml.evaluation` \n",
        "* Generate predictions with your model for the test set by using the `.transform()` method on your ALS model \n",
        "* Evaluate your model and print out the RMSE from your test set "
      ]
    },
    {
      "cell_type": "code",
      "execution_count": 10,
      "metadata": {
        "colab": {
          "base_uri": "https://localhost:8080/"
        },
        "id": "n-y7kiB9o7hh",
        "outputId": "850a735a-c80d-4ec1-e2a7-1c042ed503e0"
      },
      "outputs": [
        {
          "output_type": "stream",
          "name": "stdout",
          "text": [
            "Root-mean-square error = 0.993892270572242\n"
          ]
        }
      ],
      "source": [
        "# importing appropriate library\n",
        "from pyspark.ml.evaluation import RegressionEvaluator\n",
        "\n",
        "# Evaluate the model by computing the RMSE on the test data\n",
        "predictions = model.transform(test)\n",
        "evaluator = RegressionEvaluator(metricName='rmse', labelCol='rating',\n",
        "                                predictionCol='prediction')\n",
        "rmse = evaluator.evaluate(predictions)\n",
        "print('Root-mean-square error = ' + str(rmse))"
      ]
    },
    {
      "cell_type": "markdown",
      "metadata": {
        "id": "-iPOmVPdo7hh"
      },
      "source": [
        "### Cross-validation to Find the Optimal Model\n",
        "\n",
        "Let's now find the optimal values for the parameters of the ALS model. Use the built-in `CrossValidator` in PySpark with a suitable param grid and determine the optimal model. Try with the parameters:\n",
        "\n",
        "* regularization = [0.01, 0.001, 0.1]\n",
        "* rank = [4, 10, 50]\n"
      ]
    },
    {
      "cell_type": "code",
      "execution_count": 11,
      "metadata": {
        "colab": {
          "base_uri": "https://localhost:8080/"
        },
        "id": "x-edYxvho7hh",
        "outputId": "e4d578d7-e102-471f-bce6-1dc4415ffb69"
      },
      "outputs": [
        {
          "output_type": "execute_result",
          "data": {
            "text/plain": [
              "4"
            ]
          },
          "metadata": {},
          "execution_count": 11
        }
      ],
      "source": [
        "from pyspark.ml.tuning import CrossValidator, ParamGridBuilder\n",
        "\n",
        "# initialize the ALS model\n",
        "als_model = ALS(userCol='userId', itemCol='movieId', \n",
        "                ratingCol='rating', coldStartStrategy='drop')\n",
        "\n",
        "# create the parameter grid                 \n",
        "params = ParamGridBuilder()\\\n",
        "          .addGrid(als_model.regParam, [0.01, 0.001, 0.1])\\\n",
        "          .addGrid(als_model.rank, [4, 10, 50]).build()\n",
        "\n",
        "\n",
        "# instantiating crossvalidator estimator\n",
        "cv = CrossValidator(estimator=als_model, estimatorParamMaps=params,evaluator=evaluator,parallelism=4)\n",
        "best_model = cv.fit(movie_ratings)    \n",
        "\n",
        "# We see the best model has a rank of 50, so we will use that in our future models with this dataset\n",
        "best_model.bestModel.rank"
      ]
    },
    {
      "cell_type": "markdown",
      "metadata": {
        "id": "S9xhgihdo7hh"
      },
      "source": [
        "### Incorporating the names of the movies\n",
        "\n",
        "When we make recommendations, it would be ideal if we could have the actual name of the movie used rather than just an ID. There is another file called `'./data/movies.csv'` that contains all of the names of the movies matched up to the `movie_id` that we have in the ratings dataset.\n",
        "\n",
        "* Import the data into a Spark DataFrame \n",
        "* Look at the first 5 rows"
      ]
    },
    {
      "cell_type": "code",
      "execution_count": 12,
      "metadata": {
        "colab": {
          "base_uri": "https://localhost:8080/"
        },
        "id": "12R6oqkJo7hh",
        "outputId": "ed7c7a82-934f-4331-dd12-d1a58f0951df"
      },
      "outputs": [
        {
          "output_type": "execute_result",
          "data": {
            "text/plain": [
              "[Row(movieId=1, title='Toy Story (1995)', genres='Adventure|Animation|Children|Comedy|Fantasy'),\n",
              " Row(movieId=2, title='Jumanji (1995)', genres='Adventure|Children|Fantasy'),\n",
              " Row(movieId=3, title='Grumpier Old Men (1995)', genres='Comedy|Romance'),\n",
              " Row(movieId=4, title='Waiting to Exhale (1995)', genres='Comedy|Drama|Romance'),\n",
              " Row(movieId=5, title='Father of the Bride Part II (1995)', genres='Comedy')]"
            ]
          },
          "metadata": {},
          "execution_count": 12
        }
      ],
      "source": [
        "movie_titles = spark.read.csv('movies.csv',header='true',inferSchema='true')\n",
        "\n",
        "movie_titles.head(5)"
      ]
    },
    {
      "cell_type": "markdown",
      "metadata": {
        "id": "jwNtwPaUo7hi"
      },
      "source": [
        "We will eventually be matching up the movie ids with the movie titles. In the cell below, create a function `name_retriever()` that takes in a `movie_id` and returns a string that represents the movie title. \n",
        "\n",
        "> Hint: It's possible to do this operation in one line with the `df.where()` or the `df.filter()` methods "
      ]
    },
    {
      "cell_type": "code",
      "execution_count": 13,
      "metadata": {
        "id": "_5jUed_Do7hi"
      },
      "outputs": [],
      "source": [
        "def name_retriever(movie_id, movie_title_df):\n",
        "    return movie_title_df.where(movie_title_df.movieId == movie_id).take(1)[0]['title']"
      ]
    },
    {
      "cell_type": "code",
      "execution_count": 14,
      "metadata": {
        "colab": {
          "base_uri": "https://localhost:8080/"
        },
        "id": "YKnVkXBho7hi",
        "outputId": "e86b9bec-8976-49c7-9e98-da7f84b43a8c"
      },
      "outputs": [
        {
          "output_type": "stream",
          "name": "stdout",
          "text": [
            "Winnie the Pooh and the Blustery Day (1968)\n"
          ]
        }
      ],
      "source": [
        "print(name_retriever(1023, movie_titles))"
      ]
    },
    {
      "cell_type": "markdown",
      "metadata": {
        "id": "V-VIZQK0o7hi"
      },
      "source": [
        "## Getting Recommendations\n",
        "\n",
        "Now it's time to actually get some recommendations! The ALS model has built-in methods called `.recommendForUserSubset()` and `.recommendForAllUsers()`. We'll start off with using a subset of users. "
      ]
    },
    {
      "cell_type": "code",
      "execution_count": 15,
      "metadata": {
        "colab": {
          "base_uri": "https://localhost:8080/"
        },
        "id": "i36rMJKFo7hi",
        "outputId": "865c76bb-3b45-46ae-c1d1-e03d7412cae4"
      },
      "outputs": [
        {
          "output_type": "stream",
          "name": "stderr",
          "text": [
            "/usr/local/lib/python3.7/dist-packages/pyspark/sql/context.py:127: FutureWarning: Deprecated in 3.0.0. Use SparkSession.builder.getOrCreate() instead.\n",
            "  FutureWarning\n"
          ]
        }
      ],
      "source": [
        "users = movie_ratings.select(als.getUserCol()).distinct().limit(1)\n",
        "userSubsetRecs = model.recommendForUserSubset(users, 10)\n",
        "recs = userSubsetRecs.take(1)"
      ]
    },
    {
      "cell_type": "markdown",
      "metadata": {
        "id": "LNP-Xgf_o7hi"
      },
      "source": [
        "We can now see we have a list of rows with recommended items. Now try and get the name of the top recommended movie by way of the function you just created, using number one item for this user."
      ]
    },
    {
      "cell_type": "code",
      "execution_count": 16,
      "metadata": {
        "colab": {
          "base_uri": "https://localhost:8080/",
          "height": 35
        },
        "id": "rzJBr-2Eo7hj",
        "outputId": "fff13422-ffd4-4289-f884-7bc05cccc4e9"
      },
      "outputs": [
        {
          "output_type": "execute_result",
          "data": {
            "application/vnd.google.colaboratory.intrinsic+json": {
              "type": "string"
            },
            "text/plain": [
              "'Joy Ride (2001)'"
            ]
          },
          "metadata": {},
          "execution_count": 16
        }
      ],
      "source": [
        "# use indexing to obtain the movie id of top predicted rated item\n",
        "first_recommendation = recs[0]['recommendations'][0][0]\n",
        "\n",
        "# use the name retriever function to get the values\n",
        "name_retriever(first_recommendation,movie_titles)"
      ]
    },
    {
      "cell_type": "markdown",
      "metadata": {
        "id": "xwbYSRz-o7hj"
      },
      "source": [
        "Of course, you can also make recommendations for everyone, although this will take longer. In the next line, we are creating an RDD with the top 5 recommendations for every user and then selecting one user to find out his predictions:"
      ]
    },
    {
      "cell_type": "code",
      "execution_count": 17,
      "metadata": {
        "colab": {
          "base_uri": "https://localhost:8080/"
        },
        "id": "t4NQdpwEo7hj",
        "outputId": "a5b75562-702a-41f5-d426-545b123357d1"
      },
      "outputs": [
        {
          "output_type": "stream",
          "name": "stderr",
          "text": [
            "/usr/local/lib/python3.7/dist-packages/pyspark/sql/context.py:127: FutureWarning: Deprecated in 3.0.0. Use SparkSession.builder.getOrCreate() instead.\n",
            "  FutureWarning\n"
          ]
        },
        {
          "output_type": "execute_result",
          "data": {
            "text/plain": [
              "[Row(userId=3, recommendations=[Row(movieId=4821, rating=8.699332237243652), Row(movieId=72167, rating=7.359648704528809), Row(movieId=1011, rating=7.103260517120361), Row(movieId=94070, rating=6.758651256561279), Row(movieId=47465, rating=6.4751458168029785)])]"
            ]
          },
          "metadata": {},
          "execution_count": 17
        }
      ],
      "source": [
        "recommendations = model.recommendForAllUsers(5)\n",
        "recommendations.where(recommendations.userId == 3).collect()"
      ]
    },
    {
      "cell_type": "markdown",
      "metadata": {
        "id": "jXz03vxdo7hj"
      },
      "source": [
        "### Getting Predictions for a New User\n",
        "\n",
        "Now, it's time to put together all that you've learned in this section to create a function that will take in a new user and some movies they've rated and then return $n$ number of highest recommended movies. This function will have multiple different steps to it:\n",
        "\n",
        "* Adding the new ratings into the DataFrame (hint: look into using the `.union()` method) \n",
        "* Fitting the ALS model  \n",
        "* Make recommendations for the user of choice \n",
        "* Print out the names of the top $n$ recommendations in a reader-friendly manner \n",
        "\n",
        "The function should take in the parameters: \n",
        "\n",
        "* `user_id` : int \n",
        "* `new_ratings` : list of tuples in the format (user_id, item_id, rating)\n",
        "* `rating_df` : spark DF containing ratings\n",
        "* `movie_title_df` : spark DF containing movie titles\n",
        "* `num_recs` : int"
      ]
    },
    {
      "cell_type": "markdown",
      "metadata": {
        "id": "EYrg67wro7hj"
      },
      "source": [
        "Rate new movies\n",
        "\n",
        "```python\n",
        "[Row(movieId=3253, title='Wayne's World (1992)', genres='Comedy'),\n",
        " Row(movieId=2459, title='Texas Chainsaw Massacre, The (1974)', genres='Horror'),\n",
        " Row(movieId=2513, title='Pet Sematary (1989)', genres='Horror'),\n",
        " Row(movieId=6502, title='28 Days Later (2002)', genres='Action|Horror|Sci-Fi'),\n",
        " Row(movieId=1091, title='Weekend at Bernie's (1989)', genres='Comedy'),\n",
        "Row(movieId=441, title='Dazed and Confused (1993)', genres='Comedy'),\n",
        "Row(movieId=370, title='Naked Gun 33 1/3: The Final Insult (1994)', genres='Action|Comedy')]\n",
        "\n",
        "```"
      ]
    },
    {
      "cell_type": "code",
      "execution_count": 18,
      "metadata": {
        "id": "1KUIKffwo7hj"
      },
      "outputs": [],
      "source": [
        "def new_user_recs(user_id, new_ratings, rating_df, movie_title_df, num_recs):\n",
        "    # turn the new_recommendations list into a spark DataFrame\n",
        "    new_user_ratings = spark.createDataFrame(new_ratings,rating_df.columns)\n",
        "    \n",
        "    # combine the new ratings df with the rating_df\n",
        "    movie_ratings_combined = rating_df.union(new_user_ratings)\n",
        "    \n",
        "    # split the dataframe into a train and test set\n",
        "#     (training, test) = movie_ratings_combined.randomSplit([0.8, 0.2],seed=0)\n",
        "    \n",
        "    # create an ALS model and fit it\n",
        "    als = ALS(maxIter=5,rank=50, regParam=0.01, userCol=\"userId\", itemCol=\"movieId\", ratingCol=\"rating\",\n",
        "          coldStartStrategy=\"drop\")\n",
        "    model = als.fit(movie_ratings_combined)\n",
        "    \n",
        "    # make recommendations for all users using the recommendForAllUsers method\n",
        "    recommendations = model.recommendForAllUsers(num_recs)\n",
        "    \n",
        "    # get recommendations specifically for the new user that has been added to the DataFrame\n",
        "    recs_for_user = recommendations.where(recommendations.userId == user_id).take(1)\n",
        "    \n",
        "    for ranking, (movie_id, rating) in enumerate(recs_for_user[0]['recommendations']):\n",
        "        movie_string = name_retriever(movie_id,movie_title_df)\n",
        "        print('Recommendation {}: {}  | predicted score :{}'.format(ranking+1,movie_string,rating))\n",
        "        "
      ]
    },
    {
      "cell_type": "code",
      "execution_count": 19,
      "metadata": {
        "scrolled": false,
        "colab": {
          "base_uri": "https://localhost:8080/"
        },
        "id": "2Qzeet8Xo7hj",
        "outputId": "f8030ed3-4a69-42c1-dacc-d4f42eabc1d9"
      },
      "outputs": [
        {
          "output_type": "stream",
          "name": "stderr",
          "text": [
            "/usr/local/lib/python3.7/dist-packages/pyspark/sql/context.py:127: FutureWarning: Deprecated in 3.0.0. Use SparkSession.builder.getOrCreate() instead.\n",
            "  FutureWarning\n"
          ]
        },
        {
          "output_type": "stream",
          "name": "stdout",
          "text": [
            "Recommendation 1: Airplane! (1980)  | predicted score :5.8696465492248535\n",
            "Recommendation 2: Star Wars: Episode V - The Empire Strikes Back (1980)  | predicted score :5.749900817871094\n",
            "Recommendation 3: Princess Bride, The (1987)  | predicted score :5.704368591308594\n",
            "Recommendation 4: Star Wars: Episode IV - A New Hope (1977)  | predicted score :5.678680419921875\n",
            "Recommendation 5: Lord of the Rings: The Return of the King, The (2003)  | predicted score :5.672333717346191\n",
            "Recommendation 6: Great Escape, The (1963)  | predicted score :5.575305938720703\n",
            "Recommendation 7: In Bruges (2008)  | predicted score :5.555867671966553\n",
            "Recommendation 8: Forrest Gump (1994)  | predicted score :5.555728435516357\n",
            "Recommendation 9: Dr. Strangelove or: How I Learned to Stop Worrying and Love the Bomb (1964)  | predicted score :5.538256645202637\n",
            "Recommendation 10: Harold and Maude (1971)  | predicted score :5.532477855682373\n"
          ]
        }
      ],
      "source": [
        "user_id = 100000\n",
        "user_ratings_1 = [(user_id,3253,5),\n",
        "                  (user_id,2459,5),\n",
        "                  (user_id,2513,4),\n",
        "                  (user_id,6502,5),\n",
        "                  (user_id,1091,5),\n",
        "                  (user_id,441,4)]\n",
        "new_user_recs(user_id,\n",
        "             new_ratings=user_ratings_1,\n",
        "             rating_df=movie_ratings,\n",
        "             movie_title_df=movie_titles,\n",
        "             num_recs = 10)"
      ]
    },
    {
      "cell_type": "markdown",
      "metadata": {
        "id": "jrIz-I7bo7hj"
      },
      "source": [
        "So here we have it! Our recommendation system is generating recommendations for the top 10 movies. \n",
        "\n",
        "\n",
        "\n",
        "\n",
        "## Level up (Optional)\n",
        "\n",
        "\n",
        "* Create a user interface to allow users to easily choose items and get recommendations \n",
        "\n",
        "* Use IMDB links to scrape user reviews from IMDB and using basic NLP techniques, create extra embeddings for ALS model  \n",
        "\n",
        "* Create a hybrid recommender system using features like genre \n",
        "\n",
        "## Summary\n",
        "\n",
        "In this lab, you built a model using Spark, performed some parameter selection, and updated the model every time new user preferences came in. You looked at how Spark's ALS implementation can be used to build a scalable and efficient recommendation system. You also saw that such systems can become computationally expensive and using them with an online system could be a problem with traditional computational platforms. Spark's distributed computing architecture provides a great solution to deploy such recommendation systems for real-world applications (think Amazon, Spotify)."
      ]
    }
  ],
  "metadata": {
    "kernelspec": {
      "display_name": "Python 3",
      "language": "python",
      "name": "python3"
    },
    "language_info": {
      "codemirror_mode": {
        "name": "ipython",
        "version": 3
      },
      "file_extension": ".py",
      "mimetype": "text/x-python",
      "name": "python",
      "nbconvert_exporter": "python",
      "pygments_lexer": "ipython3",
      "version": "3.8.5"
    },
    "colab": {
      "name": "pyspark.ipynb",
      "provenance": []
    }
  },
  "nbformat": 4,
  "nbformat_minor": 0
}